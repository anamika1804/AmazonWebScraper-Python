{
 "cells": [
  {
   "cell_type": "code",
   "execution_count": 3,
   "id": "62f065a3",
   "metadata": {},
   "outputs": [],
   "source": [
    " # import libraries\n",
    "\n",
    "from bs4 import BeautifulSoup\n",
    "import requests\n",
    "import time\n",
    "import datetime\n",
    "z\n",
    "import smtplib"
   ]
  },
  {
   "cell_type": "code",
   "execution_count": 10,
   "id": "504dc707",
   "metadata": {},
   "outputs": [
    {
     "name": "stdout",
     "output_type": "stream",
     "text": [
      "\n",
      "           Apple iPhone 13 (128GB) - Green\n",
      "          \n"
     ]
    }
   ],
   "source": [
    "#connect to website\n",
    " \n",
    "URL= 'https://www.amazon.in/dp/B09V4B6K53?ref_=Oct_DLandingS_D_9baff2b3_NA'\n",
    "\n",
    "headers = {\"User-Agent\": \"Mozilla/5.0 (Windows NT 10.0; Win64; x64) AppleWebKit/537.36 (KHTML, like Gecko) Chrome/103.0.0.0 Safari/537.36\"}\n",
    "\n",
    "page= requests.get(URL, headers= headers)\n",
    "\n",
    "soup1= BeautifulSoup(page.content, \"html.parser\")\n",
    "\n",
    "soup2= BeautifulSoup(soup1.prettify(), \"html.parser\")\n",
    "\n",
    "title= soup2.find(id='productTitle').get_text()\n",
    "\n",
    "#price= soup2.find(id=\"priceblock_ourprice\").get_text()\n",
    "\n",
    "\n",
    "print(title)\n",
    "#print(price)"
   ]
  },
  {
   "cell_type": "code",
   "execution_count": 15,
   "id": "86ca084d",
   "metadata": {},
   "outputs": [
    {
     "name": "stdout",
     "output_type": "stream",
     "text": [
      "Apple iPhone 13 (128GB) - Green\n"
     ]
    },
    {
     "data": {
      "text/plain": [
       "str"
      ]
     },
     "execution_count": 15,
     "metadata": {},
     "output_type": "execute_result"
    }
   ],
   "source": [
    "#price.strip()[1:]\n",
    "title= title.strip()\n",
    "\n",
    "print(title)\n",
    "#print(price)\n",
    "type(title)"
   ]
  },
  {
   "cell_type": "code",
   "execution_count": 26,
   "id": "ff68cafa",
   "metadata": {},
   "outputs": [
    {
     "name": "stdout",
     "output_type": "stream",
     "text": [
      "2022-07-08\n"
     ]
    }
   ],
   "source": [
    "import datetime\n",
    "\n",
    "today= datetime.date.today()\n",
    "\n",
    "print(today)"
   ]
  },
  {
   "cell_type": "code",
   "execution_count": 31,
   "id": "db9f3e48",
   "metadata": {},
   "outputs": [],
   "source": [
    "import csv\n",
    "\n",
    "header = ['Title', 'Date']\n",
    "data =[title, today]\n",
    "\n",
    "#create csv\n",
    "\n",
    "with open('AmazonWebScraperDataset.csv', 'w', newline='',encoding='UTF8')as f:\n",
    "    writer= csv.writer(f)\n",
    "    writer.writerow(header)\n",
    "    writer.writerow(data)"
   ]
  },
  {
   "cell_type": "code",
   "execution_count": null,
   "id": "375123ef",
   "metadata": {},
   "outputs": [],
   "source": [
    "import pandas as pd\n",
    "df= pd.read_csv(r'C:\\Users\\anami\\AmazonWebScraperDataset.csv')"
   ]
  },
  {
   "cell_type": "code",
   "execution_count": null,
   "id": "ebcc9a50",
   "metadata": {},
   "outputs": [],
   "source": [
    "#now we are appending data to the csv\n",
    "\n",
    "\n",
    "with open('AmazonWebScraperDataset.csv', 'a+', newline='',encoding='UTF8')as f:\n",
    "    writer= csv.writer(f)\n",
    "    writer.writerow(data)"
   ]
  },
  {
   "cell_type": "code",
   "execution_count": 45,
   "id": "bac129dd",
   "metadata": {},
   "outputs": [],
   "source": [
    "\n",
    "def check_price():\n",
    "    URL= 'https://www.amazon.in/dp/B09V4B6K53?ref_=Oct_DLandingS_D_9baff2b3_NA'\n",
    "\n",
    "    headers = {\"User-Agent\": \"Mozilla/5.0 (Windows NT 10.0; Win64; x64) AppleWebKit/537.36 (KHTML, like Gecko) Chrome/103.0.0.0 Safari/537.36\"}\n",
    "\n",
    "    page= requests.get(URL, headers= headers)\n",
    "\n",
    "    soup1= BeautifulSoup(page.content, \"html.parser\")\n",
    "\n",
    "    soup2= BeautifulSoup(soup1.prettify(), \"html.parser\")\n",
    "\n",
    "    title= soup2.find(id='productTitle').get_text()\n",
    "    \n",
    "    #price.strip()[1:]\n",
    "    title= title.strip()\n",
    "    \n",
    "    import datetime\n",
    "\n",
    "    today= datetime.date.today()\n",
    "\n",
    "    print(today)\n",
    "    \n",
    "    import csv\n",
    "\n",
    "    header = ['Title', 'Date']\n",
    "    data =[title, today]\n",
    "    \n",
    "    with open('AmazonWebScraperDataset.csv', 'w', newline='',encoding='UTF8')as f:\n",
    "        writer= csv.writer(f)\n",
    "        writer.writerow(data)\n",
    "    \n",
    "    if(price<14):\n",
    "        send_mail()"
   ]
  },
  {
   "cell_type": "code",
   "execution_count": null,
   "id": "6c24353b",
   "metadata": {},
   "outputs": [
    {
     "name": "stdout",
     "output_type": "stream",
     "text": [
      "2022-07-08\n"
     ]
    }
   ],
   "source": [
    "while (True):\n",
    "    check_price()\n",
    "    time.sleep(86400)"
   ]
  },
  {
   "cell_type": "code",
   "execution_count": null,
   "id": "3268472c",
   "metadata": {},
   "outputs": [],
   "source": [
    "import pandas as pd\n",
    "df= pd.read_csv(r'C:\\Users\\anami\\AmazonWebScraperDataset.csv')\n",
    "print(df)"
   ]
  },
  {
   "cell_type": "code",
   "execution_count": 2,
   "id": "f11a2209",
   "metadata": {},
   "outputs": [],
   "source": [
    "def send_mail():\n",
    "    server= smtplib.SMPT_SSL('smtp.gmail.com', 465)\n",
    "    server.ehlo()\n",
    "    #server.starttls()\n",
    "    server.ehlo()\n",
    "    server.login('anns40833@gmail.com', 'XXXXXX')\n",
    "    \n",
    "    subject= \"this shirt you want is below $15!now is ur chance to buy\"\n",
    "    body=\"anns! this is the moment you've been looking for the tshirt or the phone ur dremt off got its price down\"\n",
    "    \n",
    "    msg= f\"subject:{subject}\\n\\n{body}\"\n",
    "    \n",
    "    server.sendmail(\n",
    "        'anns40833@gmail.com',\n",
    "        msg\n",
    "    )"
   ]
  },
  {
   "cell_type": "code",
   "execution_count": null,
   "id": "353b888e",
   "metadata": {},
   "outputs": [],
   "source": []
  }
 ],
 "metadata": {
  "kernelspec": {
   "display_name": "Python 3 (ipykernel)",
   "language": "python",
   "name": "python3"
  },
  "language_info": {
   "codemirror_mode": {
    "name": "ipython",
    "version": 3
   },
   "file_extension": ".py",
   "mimetype": "text/x-python",
   "name": "python",
   "nbconvert_exporter": "python",
   "pygments_lexer": "ipython3",
   "version": "3.9.12"
  }
 },
 "nbformat": 4,
 "nbformat_minor": 5
}
